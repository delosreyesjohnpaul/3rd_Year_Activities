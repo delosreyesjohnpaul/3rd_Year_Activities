{
 "cells": [
  {
   "cell_type": "code",
   "execution_count": 4,
   "id": "ce9a80f5",
   "metadata": {},
   "outputs": [
    {
     "name": "stdout",
     "output_type": "stream",
     "text": [
      "Principal Loan: 20000\n",
      "Payable Months: 12\n",
      "Month: 0 1687.5\n",
      "Month: 1 1545.1171875\n",
      "Month: 2 1414.7479248046875\n",
      "Month: 3 1295.378568649292\n",
      "Month: 4 1186.081001919508\n",
      "Month: 5 1086.0054173825495\n",
      "Month: 6 994.3737102908967\n",
      "Month: 7 910.4734284851024\n",
      "Month: 8 833.6522329566719\n",
      "Month: 9 763.3128258009527\n",
      "Month: 10 698.9083061239972\n",
      "Month: 11 639.937917794785\n",
      "NI:  1934.14644766051\n"
     ]
    }
   ],
   "source": [
    "loan = float(input(\"Principal Loan: \"))\n",
    "pm = int(input(\"Payable Months: \"))\n",
    "air= 15\n",
    "mir = (air/100)/12\n",
    "#mp = loan *(mir * (1+mir)**pm)/((1 + mir)**pm-1)\n",
    "plb =loan\n",
    "ni = 0\n",
    "for i in range(0,pm):\n",
    "    ip=plb*mir\n",
    "    pp=(ip+plb)/pm\n",
    "    plb=plb-pp\n",
    "    ni +=ip\n",
    "    print(f\"Month:\",i,pp)\n",
    "print(\"NI: \",ni)"
   ]
  },
  {
   "cell_type": "code",
   "execution_count": null,
   "id": "27fb79a1",
   "metadata": {},
   "outputs": [],
   "source": []
  }
 ],
 "metadata": {
  "kernelspec": {
   "display_name": "Python 3 (ipykernel)",
   "language": "python",
   "name": "python3"
  },
  "language_info": {
   "codemirror_mode": {
    "name": "ipython",
    "version": 3
   },
   "file_extension": ".py",
   "mimetype": "text/x-python",
   "name": "python",
   "nbconvert_exporter": "python",
   "pygments_lexer": "ipython3",
   "version": "3.11.5"
  }
 },
 "nbformat": 4,
 "nbformat_minor": 5
}
